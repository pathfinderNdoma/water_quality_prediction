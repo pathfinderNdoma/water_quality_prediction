{
  "cells": [
    {
      "cell_type": "markdown",
      "metadata": {
        "id": "view-in-github",
        "colab_type": "text"
      },
      "source": [
        "<a href=\"https://colab.research.google.com/github/pathfinderNdoma/water_quality_prediction/blob/main/dataPre_processing.ipynb\" target=\"_parent\"><img src=\"https://colab.research.google.com/assets/colab-badge.svg\" alt=\"Open In Colab\"/></a>"
      ]
    },
    {
      "cell_type": "markdown",
      "source": [
        "## Introduction and Importation of Libraries and dataset"
      ],
      "metadata": {
        "id": "I0XhoTfPFZMt"
      },
      "id": "I0XhoTfPFZMt"
    },
    {
      "cell_type": "code",
      "execution_count": null,
      "id": "2a78534f",
      "metadata": {
        "id": "2a78534f"
      },
      "outputs": [],
      "source": [
        "#Importing needed libraries\n",
        "import pandas as pd\n",
        "import numpy as np\n",
        "import seaborn as sns\n",
        "import matplotlib.pyplot as plt\n",
        "%matplotlib inline"
      ]
    },
    {
      "cell_type": "code",
      "execution_count": null,
      "id": "fa9aa031",
      "metadata": {
        "id": "fa9aa031"
      },
      "outputs": [],
      "source": [
        "#read the dataset\n",
        "df = pd.read_csv('water_data.csv')"
      ]
    },
    {
      "cell_type": "code",
      "execution_count": null,
      "id": "f60e7c87",
      "metadata": {
        "colab": {
          "base_uri": "https://localhost:8080/",
          "height": 519
        },
        "id": "f60e7c87",
        "outputId": "c8863eb7-af93-4f77-9fda-18e27676ac7b"
      },
      "outputs": [
        {
          "output_type": "execute_result",
          "data": {
            "text/plain": [
              "   Site                       Site Name              Date  Battery (V)  \\\n",
              "0  FP01  Bere Stream at Snatford Bridge  13/11/2002 13:45         12.0   \n",
              "1  FP01  Bere Stream at Snatford Bridge  13/11/2002 14:00         12.0   \n",
              "2  FP01  Bere Stream at Snatford Bridge  13/11/2002 14:15         12.0   \n",
              "3  FP01  Bere Stream at Snatford Bridge  13/11/2002 14:30         12.0   \n",
              "4  FP01  Bere Stream at Snatford Bridge  13/11/2002 14:45         12.0   \n",
              "\n",
              "   Conductivity 25C continuous (uS/cm)  Oxygen dissolved continuous (%satn)  \\\n",
              "0                                405.0                                117.3   \n",
              "1                                405.0                                117.1   \n",
              "2                                405.0                                116.3   \n",
              "3                                405.0                                115.2   \n",
              "4                                405.0                                114.9   \n",
              "\n",
              "   pH continuous  Temperature water continuous (C)  \\\n",
              "0           8.02                              11.4   \n",
              "1           8.02                              11.4   \n",
              "2           8.02                              11.4   \n",
              "3           8.02                              11.3   \n",
              "4           8.01                              11.3   \n",
              "\n",
              "   Water level continuous (mm)  \n",
              "0                        450.8  \n",
              "1                        451.5  \n",
              "2                        450.7  \n",
              "3                        450.9  \n",
              "4                        451.1  "
            ],
            "text/html": [
              "\n",
              "  <div id=\"df-ed74c64c-7c43-4123-83eb-be7fb3d0c801\" class=\"colab-df-container\">\n",
              "    <div>\n",
              "<style scoped>\n",
              "    .dataframe tbody tr th:only-of-type {\n",
              "        vertical-align: middle;\n",
              "    }\n",
              "\n",
              "    .dataframe tbody tr th {\n",
              "        vertical-align: top;\n",
              "    }\n",
              "\n",
              "    .dataframe thead th {\n",
              "        text-align: right;\n",
              "    }\n",
              "</style>\n",
              "<table border=\"1\" class=\"dataframe\">\n",
              "  <thead>\n",
              "    <tr style=\"text-align: right;\">\n",
              "      <th></th>\n",
              "      <th>Site</th>\n",
              "      <th>Site Name</th>\n",
              "      <th>Date</th>\n",
              "      <th>Battery (V)</th>\n",
              "      <th>Conductivity 25C continuous (uS/cm)</th>\n",
              "      <th>Oxygen dissolved continuous (%satn)</th>\n",
              "      <th>pH continuous</th>\n",
              "      <th>Temperature water continuous (C)</th>\n",
              "      <th>Water level continuous (mm)</th>\n",
              "    </tr>\n",
              "  </thead>\n",
              "  <tbody>\n",
              "    <tr>\n",
              "      <th>0</th>\n",
              "      <td>FP01</td>\n",
              "      <td>Bere Stream at Snatford Bridge</td>\n",
              "      <td>13/11/2002 13:45</td>\n",
              "      <td>12.0</td>\n",
              "      <td>405.0</td>\n",
              "      <td>117.3</td>\n",
              "      <td>8.02</td>\n",
              "      <td>11.4</td>\n",
              "      <td>450.8</td>\n",
              "    </tr>\n",
              "    <tr>\n",
              "      <th>1</th>\n",
              "      <td>FP01</td>\n",
              "      <td>Bere Stream at Snatford Bridge</td>\n",
              "      <td>13/11/2002 14:00</td>\n",
              "      <td>12.0</td>\n",
              "      <td>405.0</td>\n",
              "      <td>117.1</td>\n",
              "      <td>8.02</td>\n",
              "      <td>11.4</td>\n",
              "      <td>451.5</td>\n",
              "    </tr>\n",
              "    <tr>\n",
              "      <th>2</th>\n",
              "      <td>FP01</td>\n",
              "      <td>Bere Stream at Snatford Bridge</td>\n",
              "      <td>13/11/2002 14:15</td>\n",
              "      <td>12.0</td>\n",
              "      <td>405.0</td>\n",
              "      <td>116.3</td>\n",
              "      <td>8.02</td>\n",
              "      <td>11.4</td>\n",
              "      <td>450.7</td>\n",
              "    </tr>\n",
              "    <tr>\n",
              "      <th>3</th>\n",
              "      <td>FP01</td>\n",
              "      <td>Bere Stream at Snatford Bridge</td>\n",
              "      <td>13/11/2002 14:30</td>\n",
              "      <td>12.0</td>\n",
              "      <td>405.0</td>\n",
              "      <td>115.2</td>\n",
              "      <td>8.02</td>\n",
              "      <td>11.3</td>\n",
              "      <td>450.9</td>\n",
              "    </tr>\n",
              "    <tr>\n",
              "      <th>4</th>\n",
              "      <td>FP01</td>\n",
              "      <td>Bere Stream at Snatford Bridge</td>\n",
              "      <td>13/11/2002 14:45</td>\n",
              "      <td>12.0</td>\n",
              "      <td>405.0</td>\n",
              "      <td>114.9</td>\n",
              "      <td>8.01</td>\n",
              "      <td>11.3</td>\n",
              "      <td>451.1</td>\n",
              "    </tr>\n",
              "  </tbody>\n",
              "</table>\n",
              "</div>\n",
              "    <div class=\"colab-df-buttons\">\n",
              "\n",
              "  <div class=\"colab-df-container\">\n",
              "    <button class=\"colab-df-convert\" onclick=\"convertToInteractive('df-ed74c64c-7c43-4123-83eb-be7fb3d0c801')\"\n",
              "            title=\"Convert this dataframe to an interactive table.\"\n",
              "            style=\"display:none;\">\n",
              "\n",
              "  <svg xmlns=\"http://www.w3.org/2000/svg\" height=\"24px\" viewBox=\"0 -960 960 960\">\n",
              "    <path d=\"M120-120v-720h720v720H120Zm60-500h600v-160H180v160Zm220 220h160v-160H400v160Zm0 220h160v-160H400v160ZM180-400h160v-160H180v160Zm440 0h160v-160H620v160ZM180-180h160v-160H180v160Zm440 0h160v-160H620v160Z\"/>\n",
              "  </svg>\n",
              "    </button>\n",
              "\n",
              "  <style>\n",
              "    .colab-df-container {\n",
              "      display:flex;\n",
              "      gap: 12px;\n",
              "    }\n",
              "\n",
              "    .colab-df-convert {\n",
              "      background-color: #E8F0FE;\n",
              "      border: none;\n",
              "      border-radius: 50%;\n",
              "      cursor: pointer;\n",
              "      display: none;\n",
              "      fill: #1967D2;\n",
              "      height: 32px;\n",
              "      padding: 0 0 0 0;\n",
              "      width: 32px;\n",
              "    }\n",
              "\n",
              "    .colab-df-convert:hover {\n",
              "      background-color: #E2EBFA;\n",
              "      box-shadow: 0px 1px 2px rgba(60, 64, 67, 0.3), 0px 1px 3px 1px rgba(60, 64, 67, 0.15);\n",
              "      fill: #174EA6;\n",
              "    }\n",
              "\n",
              "    .colab-df-buttons div {\n",
              "      margin-bottom: 4px;\n",
              "    }\n",
              "\n",
              "    [theme=dark] .colab-df-convert {\n",
              "      background-color: #3B4455;\n",
              "      fill: #D2E3FC;\n",
              "    }\n",
              "\n",
              "    [theme=dark] .colab-df-convert:hover {\n",
              "      background-color: #434B5C;\n",
              "      box-shadow: 0px 1px 3px 1px rgba(0, 0, 0, 0.15);\n",
              "      filter: drop-shadow(0px 1px 2px rgba(0, 0, 0, 0.3));\n",
              "      fill: #FFFFFF;\n",
              "    }\n",
              "  </style>\n",
              "\n",
              "    <script>\n",
              "      const buttonEl =\n",
              "        document.querySelector('#df-ed74c64c-7c43-4123-83eb-be7fb3d0c801 button.colab-df-convert');\n",
              "      buttonEl.style.display =\n",
              "        google.colab.kernel.accessAllowed ? 'block' : 'none';\n",
              "\n",
              "      async function convertToInteractive(key) {\n",
              "        const element = document.querySelector('#df-ed74c64c-7c43-4123-83eb-be7fb3d0c801');\n",
              "        const dataTable =\n",
              "          await google.colab.kernel.invokeFunction('convertToInteractive',\n",
              "                                                    [key], {});\n",
              "        if (!dataTable) return;\n",
              "\n",
              "        const docLinkHtml = 'Like what you see? Visit the ' +\n",
              "          '<a target=\"_blank\" href=https://colab.research.google.com/notebooks/data_table.ipynb>data table notebook</a>'\n",
              "          + ' to learn more about interactive tables.';\n",
              "        element.innerHTML = '';\n",
              "        dataTable['output_type'] = 'display_data';\n",
              "        await google.colab.output.renderOutput(dataTable, element);\n",
              "        const docLink = document.createElement('div');\n",
              "        docLink.innerHTML = docLinkHtml;\n",
              "        element.appendChild(docLink);\n",
              "      }\n",
              "    </script>\n",
              "  </div>\n",
              "\n",
              "\n",
              "<div id=\"df-004c1196-5d43-480b-a526-273ed37105cf\">\n",
              "  <button class=\"colab-df-quickchart\" onclick=\"quickchart('df-004c1196-5d43-480b-a526-273ed37105cf')\"\n",
              "            title=\"Suggest charts.\"\n",
              "            style=\"display:none;\">\n",
              "\n",
              "<svg xmlns=\"http://www.w3.org/2000/svg\" height=\"24px\"viewBox=\"0 0 24 24\"\n",
              "     width=\"24px\">\n",
              "    <g>\n",
              "        <path d=\"M19 3H5c-1.1 0-2 .9-2 2v14c0 1.1.9 2 2 2h14c1.1 0 2-.9 2-2V5c0-1.1-.9-2-2-2zM9 17H7v-7h2v7zm4 0h-2V7h2v10zm4 0h-2v-4h2v4z\"/>\n",
              "    </g>\n",
              "</svg>\n",
              "  </button>\n",
              "\n",
              "<style>\n",
              "  .colab-df-quickchart {\n",
              "      --bg-color: #E8F0FE;\n",
              "      --fill-color: #1967D2;\n",
              "      --hover-bg-color: #E2EBFA;\n",
              "      --hover-fill-color: #174EA6;\n",
              "      --disabled-fill-color: #AAA;\n",
              "      --disabled-bg-color: #DDD;\n",
              "  }\n",
              "\n",
              "  [theme=dark] .colab-df-quickchart {\n",
              "      --bg-color: #3B4455;\n",
              "      --fill-color: #D2E3FC;\n",
              "      --hover-bg-color: #434B5C;\n",
              "      --hover-fill-color: #FFFFFF;\n",
              "      --disabled-bg-color: #3B4455;\n",
              "      --disabled-fill-color: #666;\n",
              "  }\n",
              "\n",
              "  .colab-df-quickchart {\n",
              "    background-color: var(--bg-color);\n",
              "    border: none;\n",
              "    border-radius: 50%;\n",
              "    cursor: pointer;\n",
              "    display: none;\n",
              "    fill: var(--fill-color);\n",
              "    height: 32px;\n",
              "    padding: 0;\n",
              "    width: 32px;\n",
              "  }\n",
              "\n",
              "  .colab-df-quickchart:hover {\n",
              "    background-color: var(--hover-bg-color);\n",
              "    box-shadow: 0 1px 2px rgba(60, 64, 67, 0.3), 0 1px 3px 1px rgba(60, 64, 67, 0.15);\n",
              "    fill: var(--button-hover-fill-color);\n",
              "  }\n",
              "\n",
              "  .colab-df-quickchart-complete:disabled,\n",
              "  .colab-df-quickchart-complete:disabled:hover {\n",
              "    background-color: var(--disabled-bg-color);\n",
              "    fill: var(--disabled-fill-color);\n",
              "    box-shadow: none;\n",
              "  }\n",
              "\n",
              "  .colab-df-spinner {\n",
              "    border: 2px solid var(--fill-color);\n",
              "    border-color: transparent;\n",
              "    border-bottom-color: var(--fill-color);\n",
              "    animation:\n",
              "      spin 1s steps(1) infinite;\n",
              "  }\n",
              "\n",
              "  @keyframes spin {\n",
              "    0% {\n",
              "      border-color: transparent;\n",
              "      border-bottom-color: var(--fill-color);\n",
              "      border-left-color: var(--fill-color);\n",
              "    }\n",
              "    20% {\n",
              "      border-color: transparent;\n",
              "      border-left-color: var(--fill-color);\n",
              "      border-top-color: var(--fill-color);\n",
              "    }\n",
              "    30% {\n",
              "      border-color: transparent;\n",
              "      border-left-color: var(--fill-color);\n",
              "      border-top-color: var(--fill-color);\n",
              "      border-right-color: var(--fill-color);\n",
              "    }\n",
              "    40% {\n",
              "      border-color: transparent;\n",
              "      border-right-color: var(--fill-color);\n",
              "      border-top-color: var(--fill-color);\n",
              "    }\n",
              "    60% {\n",
              "      border-color: transparent;\n",
              "      border-right-color: var(--fill-color);\n",
              "    }\n",
              "    80% {\n",
              "      border-color: transparent;\n",
              "      border-right-color: var(--fill-color);\n",
              "      border-bottom-color: var(--fill-color);\n",
              "    }\n",
              "    90% {\n",
              "      border-color: transparent;\n",
              "      border-bottom-color: var(--fill-color);\n",
              "    }\n",
              "  }\n",
              "</style>\n",
              "\n",
              "  <script>\n",
              "    async function quickchart(key) {\n",
              "      const quickchartButtonEl =\n",
              "        document.querySelector('#' + key + ' button');\n",
              "      quickchartButtonEl.disabled = true;  // To prevent multiple clicks.\n",
              "      quickchartButtonEl.classList.add('colab-df-spinner');\n",
              "      try {\n",
              "        const charts = await google.colab.kernel.invokeFunction(\n",
              "            'suggestCharts', [key], {});\n",
              "      } catch (error) {\n",
              "        console.error('Error during call to suggestCharts:', error);\n",
              "      }\n",
              "      quickchartButtonEl.classList.remove('colab-df-spinner');\n",
              "      quickchartButtonEl.classList.add('colab-df-quickchart-complete');\n",
              "    }\n",
              "    (() => {\n",
              "      let quickchartButtonEl =\n",
              "        document.querySelector('#df-004c1196-5d43-480b-a526-273ed37105cf button');\n",
              "      quickchartButtonEl.style.display =\n",
              "        google.colab.kernel.accessAllowed ? 'block' : 'none';\n",
              "    })();\n",
              "  </script>\n",
              "</div>\n",
              "    </div>\n",
              "  </div>\n"
            ]
          },
          "metadata": {},
          "execution_count": 5
        }
      ],
      "source": [
        "df.head()"
      ]
    },
    {
      "cell_type": "code",
      "execution_count": null,
      "id": "61101b2e",
      "metadata": {
        "id": "61101b2e",
        "outputId": "c566f990-382a-4629-9ed7-84982c694c9a"
      },
      "outputs": [
        {
          "data": {
            "text/plain": [
              "(1048575, 9)"
            ]
          },
          "execution_count": 34,
          "metadata": {},
          "output_type": "execute_result"
        }
      ],
      "source": [
        "df.shape"
      ]
    },
    {
      "cell_type": "markdown",
      "id": "ea065878",
      "metadata": {
        "id": "ea065878"
      },
      "source": [
        "## EXPLORATORY DATA ANALYSIS"
      ]
    },
    {
      "cell_type": "code",
      "execution_count": null,
      "id": "b82c5b62",
      "metadata": {
        "id": "b82c5b62",
        "outputId": "34991ec3-0b93-42d8-8a99-d19a8243e213"
      },
      "outputs": [
        {
          "name": "stdout",
          "output_type": "stream",
          "text": [
            "<class 'pandas.core.frame.DataFrame'>\n",
            "RangeIndex: 1048575 entries, 0 to 1048574\n",
            "Data columns (total 9 columns):\n",
            " #   Column                               Non-Null Count    Dtype  \n",
            "---  ------                               --------------    -----  \n",
            " 0   Site                                 1048575 non-null  object \n",
            " 1   Site Name                            1048575 non-null  object \n",
            " 2   Date                                 1048575 non-null  object \n",
            " 3   Battery (V)                          1044351 non-null  float64\n",
            " 4   Conductivity 25C continuous (uS/cm)  1036499 non-null  float64\n",
            " 5   Oxygen dissolved continuous (%satn)  1021019 non-null  float64\n",
            " 6   pH continuous                        1025488 non-null  float64\n",
            " 7   Temperature water continuous (C)     1034978 non-null  float64\n",
            " 8   Water level continuous (mm)          1044073 non-null  float64\n",
            "dtypes: float64(6), object(3)\n",
            "memory usage: 72.0+ MB\n"
          ]
        }
      ],
      "source": [
        "#Getting an overview of the dataset, datat type etc.\n",
        "df.info()"
      ]
    },
    {
      "cell_type": "code",
      "execution_count": null,
      "id": "46d70527",
      "metadata": {
        "id": "46d70527",
        "outputId": "3056492b-26aa-4ee3-b2cf-76cb87312a62"
      },
      "outputs": [
        {
          "data": {
            "text/plain": [
              "Site                                   False\n",
              "Site Name                              False\n",
              "Date                                   False\n",
              "Battery (V)                             True\n",
              "Conductivity 25C continuous (uS/cm)     True\n",
              "Oxygen dissolved continuous (%satn)     True\n",
              "pH continuous                           True\n",
              "Temperature water continuous (C)        True\n",
              "Water level continuous (mm)             True\n",
              "dtype: bool"
            ]
          },
          "execution_count": 36,
          "metadata": {},
          "output_type": "execute_result"
        }
      ],
      "source": [
        "#Confirming if there is any null value\n",
        "df.isnull().any()"
      ]
    },
    {
      "cell_type": "code",
      "execution_count": null,
      "id": "ce6f56dd",
      "metadata": {
        "id": "ce6f56dd",
        "outputId": "66f375d7-d5d7-4552-8983-634125c652ef"
      },
      "outputs": [
        {
          "data": {
            "text/plain": [
              "Site                                       0\n",
              "Site Name                                  0\n",
              "Date                                       0\n",
              "Battery (V)                             4224\n",
              "Conductivity 25C continuous (uS/cm)    12076\n",
              "Oxygen dissolved continuous (%satn)    27556\n",
              "pH continuous                          23087\n",
              "Temperature water continuous (C)       13597\n",
              "Water level continuous (mm)             4502\n",
              "dtype: int64"
            ]
          },
          "execution_count": 37,
          "metadata": {},
          "output_type": "execute_result"
        }
      ],
      "source": [
        "#Confirming if there is any null value\n",
        "df.isnull().sum()"
      ]
    },
    {
      "cell_type": "code",
      "execution_count": null,
      "id": "3b752b7f",
      "metadata": {
        "id": "3b752b7f",
        "outputId": "5b40dce5-44fb-4fc0-b900-44a9d0048a99"
      },
      "outputs": [
        {
          "data": {
            "text/html": [
              "<div>\n",
              "<style scoped>\n",
              "    .dataframe tbody tr th:only-of-type {\n",
              "        vertical-align: middle;\n",
              "    }\n",
              "\n",
              "    .dataframe tbody tr th {\n",
              "        vertical-align: top;\n",
              "    }\n",
              "\n",
              "    .dataframe thead th {\n",
              "        text-align: right;\n",
              "    }\n",
              "</style>\n",
              "<table border=\"1\" class=\"dataframe\">\n",
              "  <thead>\n",
              "    <tr style=\"text-align: right;\">\n",
              "      <th></th>\n",
              "      <th>Battery (V)</th>\n",
              "      <th>Conductivity 25C continuous (uS/cm)</th>\n",
              "      <th>Oxygen dissolved continuous (%satn)</th>\n",
              "      <th>pH continuous</th>\n",
              "      <th>Temperature water continuous (C)</th>\n",
              "      <th>Water level continuous (mm)</th>\n",
              "    </tr>\n",
              "  </thead>\n",
              "  <tbody>\n",
              "    <tr>\n",
              "      <th>count</th>\n",
              "      <td>1,044,351.00</td>\n",
              "      <td>1,036,499.00</td>\n",
              "      <td>1,021,019.00</td>\n",
              "      <td>1,025,488.00</td>\n",
              "      <td>1,034,978.00</td>\n",
              "      <td>1,044,073.00</td>\n",
              "    </tr>\n",
              "    <tr>\n",
              "      <th>mean</th>\n",
              "      <td>12.74</td>\n",
              "      <td>319.86</td>\n",
              "      <td>75.43</td>\n",
              "      <td>7.63</td>\n",
              "      <td>10.91</td>\n",
              "      <td>404.32</td>\n",
              "    </tr>\n",
              "    <tr>\n",
              "      <th>std</th>\n",
              "      <td>0.67</td>\n",
              "      <td>133.22</td>\n",
              "      <td>46.72</td>\n",
              "      <td>1.45</td>\n",
              "      <td>4.31</td>\n",
              "      <td>245.37</td>\n",
              "    </tr>\n",
              "    <tr>\n",
              "      <th>min</th>\n",
              "      <td>-15.00</td>\n",
              "      <td>0.00</td>\n",
              "      <td>-1.00</td>\n",
              "      <td>0.00</td>\n",
              "      <td>-3.00</td>\n",
              "      <td>-41.60</td>\n",
              "    </tr>\n",
              "    <tr>\n",
              "      <th>25%</th>\n",
              "      <td>12.00</td>\n",
              "      <td>291.00</td>\n",
              "      <td>47.40</td>\n",
              "      <td>7.49</td>\n",
              "      <td>8.00</td>\n",
              "      <td>215.00</td>\n",
              "    </tr>\n",
              "    <tr>\n",
              "      <th>50%</th>\n",
              "      <td>13.00</td>\n",
              "      <td>363.00</td>\n",
              "      <td>91.60</td>\n",
              "      <td>7.87</td>\n",
              "      <td>10.80</td>\n",
              "      <td>378.00</td>\n",
              "    </tr>\n",
              "    <tr>\n",
              "      <th>75%</th>\n",
              "      <td>13.00</td>\n",
              "      <td>406.00</td>\n",
              "      <td>102.50</td>\n",
              "      <td>8.11</td>\n",
              "      <td>14.10</td>\n",
              "      <td>592.20</td>\n",
              "    </tr>\n",
              "    <tr>\n",
              "      <th>max</th>\n",
              "      <td>15.00</td>\n",
              "      <td>1,030.00</td>\n",
              "      <td>516.00</td>\n",
              "      <td>16.98</td>\n",
              "      <td>33.00</td>\n",
              "      <td>1,949.00</td>\n",
              "    </tr>\n",
              "  </tbody>\n",
              "</table>\n",
              "</div>"
            ],
            "text/plain": [
              "       Battery (V)  Conductivity 25C continuous (uS/cm)  Oxygen dissolved continuous (%satn)  pH continuous  Temperature water continuous (C)  Water level continuous (mm)\n",
              "count 1,044,351.00                         1,036,499.00                         1,021,019.00   1,025,488.00                      1,034,978.00                 1,044,073.00\n",
              "mean         12.74                               319.86                                75.43           7.63                             10.91                       404.32\n",
              "std           0.67                               133.22                                46.72           1.45                              4.31                       245.37\n",
              "min         -15.00                                 0.00                                -1.00           0.00                             -3.00                       -41.60\n",
              "25%          12.00                               291.00                                47.40           7.49                              8.00                       215.00\n",
              "50%          13.00                               363.00                                91.60           7.87                             10.80                       378.00\n",
              "75%          13.00                               406.00                               102.50           8.11                             14.10                       592.20\n",
              "max          15.00                             1,030.00                               516.00          16.98                             33.00                     1,949.00"
            ]
          },
          "execution_count": 38,
          "metadata": {},
          "output_type": "execute_result"
        }
      ],
      "source": [
        "#Describing the datatset to see how it looks like\n",
        "pd.options.display.float_format = '{:,.2f}'.format\n",
        "pd.set_option('display.max_columns', 50)\n",
        "pd.set_option('display.width', 1000)\n",
        "df.describe()"
      ]
    },
    {
      "cell_type": "code",
      "execution_count": null,
      "id": "4d307256",
      "metadata": {
        "id": "4d307256"
      },
      "outputs": [],
      "source": [
        "#Renaming columns\n",
        "df = df.rename(columns={'Conductivity 25C continuous (uS/cm)': 'conductivity', 'Oxygen dissolved continuous (%satn)':'do', 'pH continuous': 'ph', 'Temperature water continuous (C)': 'temperature'})"
      ]
    },
    {
      "cell_type": "code",
      "execution_count": null,
      "id": "f695b18a",
      "metadata": {
        "id": "f695b18a",
        "outputId": "d3b8ad98-3bf1-4244-e53d-4993a1558338"
      },
      "outputs": [
        {
          "data": {
            "text/html": [
              "<div>\n",
              "<style scoped>\n",
              "    .dataframe tbody tr th:only-of-type {\n",
              "        vertical-align: middle;\n",
              "    }\n",
              "\n",
              "    .dataframe tbody tr th {\n",
              "        vertical-align: top;\n",
              "    }\n",
              "\n",
              "    .dataframe thead th {\n",
              "        text-align: right;\n",
              "    }\n",
              "</style>\n",
              "<table border=\"1\" class=\"dataframe\">\n",
              "  <thead>\n",
              "    <tr style=\"text-align: right;\">\n",
              "      <th></th>\n",
              "      <th>Site</th>\n",
              "      <th>Site Name</th>\n",
              "      <th>Date</th>\n",
              "      <th>Battery (V)</th>\n",
              "      <th>conductivity</th>\n",
              "      <th>do</th>\n",
              "      <th>ph</th>\n",
              "      <th>temperature</th>\n",
              "      <th>Water level continuous (mm)</th>\n",
              "    </tr>\n",
              "  </thead>\n",
              "  <tbody>\n",
              "    <tr>\n",
              "      <th>0</th>\n",
              "      <td>FP01</td>\n",
              "      <td>Bere Stream at Snatford Bridge</td>\n",
              "      <td>13/11/2002 13:45</td>\n",
              "      <td>12.00</td>\n",
              "      <td>405.00</td>\n",
              "      <td>117.30</td>\n",
              "      <td>8.02</td>\n",
              "      <td>11.40</td>\n",
              "      <td>450.80</td>\n",
              "    </tr>\n",
              "    <tr>\n",
              "      <th>1</th>\n",
              "      <td>FP01</td>\n",
              "      <td>Bere Stream at Snatford Bridge</td>\n",
              "      <td>13/11/2002 14:00</td>\n",
              "      <td>12.00</td>\n",
              "      <td>405.00</td>\n",
              "      <td>117.10</td>\n",
              "      <td>8.02</td>\n",
              "      <td>11.40</td>\n",
              "      <td>451.50</td>\n",
              "    </tr>\n",
              "    <tr>\n",
              "      <th>2</th>\n",
              "      <td>FP01</td>\n",
              "      <td>Bere Stream at Snatford Bridge</td>\n",
              "      <td>13/11/2002 14:15</td>\n",
              "      <td>12.00</td>\n",
              "      <td>405.00</td>\n",
              "      <td>116.30</td>\n",
              "      <td>8.02</td>\n",
              "      <td>11.40</td>\n",
              "      <td>450.70</td>\n",
              "    </tr>\n",
              "    <tr>\n",
              "      <th>3</th>\n",
              "      <td>FP01</td>\n",
              "      <td>Bere Stream at Snatford Bridge</td>\n",
              "      <td>13/11/2002 14:30</td>\n",
              "      <td>12.00</td>\n",
              "      <td>405.00</td>\n",
              "      <td>115.20</td>\n",
              "      <td>8.02</td>\n",
              "      <td>11.30</td>\n",
              "      <td>450.90</td>\n",
              "    </tr>\n",
              "    <tr>\n",
              "      <th>4</th>\n",
              "      <td>FP01</td>\n",
              "      <td>Bere Stream at Snatford Bridge</td>\n",
              "      <td>13/11/2002 14:45</td>\n",
              "      <td>12.00</td>\n",
              "      <td>405.00</td>\n",
              "      <td>114.90</td>\n",
              "      <td>8.01</td>\n",
              "      <td>11.30</td>\n",
              "      <td>451.10</td>\n",
              "    </tr>\n",
              "  </tbody>\n",
              "</table>\n",
              "</div>"
            ],
            "text/plain": [
              "   Site                       Site Name              Date  Battery (V)  conductivity     do   ph  temperature  Water level continuous (mm)\n",
              "0  FP01  Bere Stream at Snatford Bridge  13/11/2002 13:45        12.00        405.00 117.30 8.02        11.40                       450.80\n",
              "1  FP01  Bere Stream at Snatford Bridge  13/11/2002 14:00        12.00        405.00 117.10 8.02        11.40                       451.50\n",
              "2  FP01  Bere Stream at Snatford Bridge  13/11/2002 14:15        12.00        405.00 116.30 8.02        11.40                       450.70\n",
              "3  FP01  Bere Stream at Snatford Bridge  13/11/2002 14:30        12.00        405.00 115.20 8.02        11.30                       450.90\n",
              "4  FP01  Bere Stream at Snatford Bridge  13/11/2002 14:45        12.00        405.00 114.90 8.01        11.30                       451.10"
            ]
          },
          "execution_count": 40,
          "metadata": {},
          "output_type": "execute_result"
        }
      ],
      "source": [
        "df.head()"
      ]
    },
    {
      "cell_type": "code",
      "execution_count": null,
      "id": "4b57e95a",
      "metadata": {
        "id": "4b57e95a"
      },
      "outputs": [],
      "source": [
        "df = df[['conductivity', 'do', 'ph', 'temperature']]\n",
        "#Y = data[['y1']]  # Extract 'y1' into a separate DataFrame 'Y'"
      ]
    },
    {
      "cell_type": "code",
      "execution_count": null,
      "id": "2d02e6ee",
      "metadata": {
        "id": "2d02e6ee",
        "outputId": "1cdad6a7-1cb7-4d80-b1db-3c526090a7eb"
      },
      "outputs": [
        {
          "data": {
            "text/html": [
              "<div>\n",
              "<style scoped>\n",
              "    .dataframe tbody tr th:only-of-type {\n",
              "        vertical-align: middle;\n",
              "    }\n",
              "\n",
              "    .dataframe tbody tr th {\n",
              "        vertical-align: top;\n",
              "    }\n",
              "\n",
              "    .dataframe thead th {\n",
              "        text-align: right;\n",
              "    }\n",
              "</style>\n",
              "<table border=\"1\" class=\"dataframe\">\n",
              "  <thead>\n",
              "    <tr style=\"text-align: right;\">\n",
              "      <th></th>\n",
              "      <th>conductivity</th>\n",
              "      <th>do</th>\n",
              "      <th>ph</th>\n",
              "      <th>temperature</th>\n",
              "    </tr>\n",
              "  </thead>\n",
              "  <tbody>\n",
              "    <tr>\n",
              "      <th>0</th>\n",
              "      <td>405.00</td>\n",
              "      <td>117.30</td>\n",
              "      <td>8.02</td>\n",
              "      <td>11.40</td>\n",
              "    </tr>\n",
              "    <tr>\n",
              "      <th>1</th>\n",
              "      <td>405.00</td>\n",
              "      <td>117.10</td>\n",
              "      <td>8.02</td>\n",
              "      <td>11.40</td>\n",
              "    </tr>\n",
              "    <tr>\n",
              "      <th>2</th>\n",
              "      <td>405.00</td>\n",
              "      <td>116.30</td>\n",
              "      <td>8.02</td>\n",
              "      <td>11.40</td>\n",
              "    </tr>\n",
              "    <tr>\n",
              "      <th>3</th>\n",
              "      <td>405.00</td>\n",
              "      <td>115.20</td>\n",
              "      <td>8.02</td>\n",
              "      <td>11.30</td>\n",
              "    </tr>\n",
              "    <tr>\n",
              "      <th>4</th>\n",
              "      <td>405.00</td>\n",
              "      <td>114.90</td>\n",
              "      <td>8.01</td>\n",
              "      <td>11.30</td>\n",
              "    </tr>\n",
              "  </tbody>\n",
              "</table>\n",
              "</div>"
            ],
            "text/plain": [
              "   conductivity     do   ph  temperature\n",
              "0        405.00 117.30 8.02        11.40\n",
              "1        405.00 117.10 8.02        11.40\n",
              "2        405.00 116.30 8.02        11.40\n",
              "3        405.00 115.20 8.02        11.30\n",
              "4        405.00 114.90 8.01        11.30"
            ]
          },
          "execution_count": 42,
          "metadata": {},
          "output_type": "execute_result"
        }
      ],
      "source": [
        "df.head()"
      ]
    },
    {
      "cell_type": "code",
      "execution_count": null,
      "id": "5a3aedb1",
      "metadata": {
        "id": "5a3aedb1",
        "outputId": "adb47bf5-327d-4b7b-d31e-9a982b8d5040"
      },
      "outputs": [
        {
          "data": {
            "text/html": [
              "<div>\n",
              "<style scoped>\n",
              "    .dataframe tbody tr th:only-of-type {\n",
              "        vertical-align: middle;\n",
              "    }\n",
              "\n",
              "    .dataframe tbody tr th {\n",
              "        vertical-align: top;\n",
              "    }\n",
              "\n",
              "    .dataframe thead th {\n",
              "        text-align: right;\n",
              "    }\n",
              "</style>\n",
              "<table border=\"1\" class=\"dataframe\">\n",
              "  <thead>\n",
              "    <tr style=\"text-align: right;\">\n",
              "      <th></th>\n",
              "      <th>conductivity</th>\n",
              "      <th>do</th>\n",
              "      <th>ph</th>\n",
              "      <th>temperature</th>\n",
              "    </tr>\n",
              "  </thead>\n",
              "  <tbody>\n",
              "    <tr>\n",
              "      <th>0</th>\n",
              "      <td>405.00</td>\n",
              "      <td>117.30</td>\n",
              "      <td>8.02</td>\n",
              "      <td>11.40</td>\n",
              "    </tr>\n",
              "    <tr>\n",
              "      <th>1</th>\n",
              "      <td>405.00</td>\n",
              "      <td>117.10</td>\n",
              "      <td>8.02</td>\n",
              "      <td>11.40</td>\n",
              "    </tr>\n",
              "    <tr>\n",
              "      <th>2</th>\n",
              "      <td>405.00</td>\n",
              "      <td>116.30</td>\n",
              "      <td>8.02</td>\n",
              "      <td>11.40</td>\n",
              "    </tr>\n",
              "    <tr>\n",
              "      <th>3</th>\n",
              "      <td>405.00</td>\n",
              "      <td>115.20</td>\n",
              "      <td>8.02</td>\n",
              "      <td>11.30</td>\n",
              "    </tr>\n",
              "    <tr>\n",
              "      <th>4</th>\n",
              "      <td>405.00</td>\n",
              "      <td>114.90</td>\n",
              "      <td>8.01</td>\n",
              "      <td>11.30</td>\n",
              "    </tr>\n",
              "  </tbody>\n",
              "</table>\n",
              "</div>"
            ],
            "text/plain": [
              "   conductivity     do   ph  temperature\n",
              "0        405.00 117.30 8.02        11.40\n",
              "1        405.00 117.10 8.02        11.40\n",
              "2        405.00 116.30 8.02        11.40\n",
              "3        405.00 115.20 8.02        11.30\n",
              "4        405.00 114.90 8.01        11.30"
            ]
          },
          "execution_count": 43,
          "metadata": {},
          "output_type": "execute_result"
        }
      ],
      "source": [
        "#Removing Missing values\n",
        "df = df.dropna()\n",
        "df.head()"
      ]
    },
    {
      "cell_type": "code",
      "execution_count": null,
      "id": "536259b2",
      "metadata": {
        "id": "536259b2",
        "outputId": "eee10e20-ca4c-4124-88ef-c52f0ceb70fe"
      },
      "outputs": [
        {
          "data": {
            "text/html": [
              "<div>\n",
              "<style scoped>\n",
              "    .dataframe tbody tr th:only-of-type {\n",
              "        vertical-align: middle;\n",
              "    }\n",
              "\n",
              "    .dataframe tbody tr th {\n",
              "        vertical-align: top;\n",
              "    }\n",
              "\n",
              "    .dataframe thead th {\n",
              "        text-align: right;\n",
              "    }\n",
              "</style>\n",
              "<table border=\"1\" class=\"dataframe\">\n",
              "  <thead>\n",
              "    <tr style=\"text-align: right;\">\n",
              "      <th></th>\n",
              "      <th>conductivity</th>\n",
              "      <th>do</th>\n",
              "      <th>ph</th>\n",
              "      <th>temperature</th>\n",
              "    </tr>\n",
              "  </thead>\n",
              "  <tbody>\n",
              "    <tr>\n",
              "      <th>count</th>\n",
              "      <td>1,007,863.00</td>\n",
              "      <td>1,007,863.00</td>\n",
              "      <td>1,007,863.00</td>\n",
              "      <td>1,007,863.00</td>\n",
              "    </tr>\n",
              "    <tr>\n",
              "      <th>mean</th>\n",
              "      <td>328.16</td>\n",
              "      <td>76.22</td>\n",
              "      <td>7.59</td>\n",
              "      <td>10.99</td>\n",
              "    </tr>\n",
              "    <tr>\n",
              "      <th>std</th>\n",
              "      <td>124.38</td>\n",
              "      <td>46.34</td>\n",
              "      <td>1.37</td>\n",
              "      <td>4.25</td>\n",
              "    </tr>\n",
              "    <tr>\n",
              "      <th>min</th>\n",
              "      <td>0.00</td>\n",
              "      <td>-1.00</td>\n",
              "      <td>0.00</td>\n",
              "      <td>-3.00</td>\n",
              "    </tr>\n",
              "    <tr>\n",
              "      <th>25%</th>\n",
              "      <td>306.00</td>\n",
              "      <td>52.80</td>\n",
              "      <td>7.48</td>\n",
              "      <td>8.10</td>\n",
              "    </tr>\n",
              "    <tr>\n",
              "      <th>50%</th>\n",
              "      <td>365.00</td>\n",
              "      <td>91.80</td>\n",
              "      <td>7.86</td>\n",
              "      <td>10.90</td>\n",
              "    </tr>\n",
              "    <tr>\n",
              "      <th>75%</th>\n",
              "      <td>407.00</td>\n",
              "      <td>102.60</td>\n",
              "      <td>8.10</td>\n",
              "      <td>14.10</td>\n",
              "    </tr>\n",
              "    <tr>\n",
              "      <th>max</th>\n",
              "      <td>1,030.00</td>\n",
              "      <td>516.00</td>\n",
              "      <td>16.82</td>\n",
              "      <td>33.00</td>\n",
              "    </tr>\n",
              "  </tbody>\n",
              "</table>\n",
              "</div>"
            ],
            "text/plain": [
              "       conductivity           do           ph  temperature\n",
              "count  1,007,863.00 1,007,863.00 1,007,863.00 1,007,863.00\n",
              "mean         328.16        76.22         7.59        10.99\n",
              "std          124.38        46.34         1.37         4.25\n",
              "min            0.00        -1.00         0.00        -3.00\n",
              "25%          306.00        52.80         7.48         8.10\n",
              "50%          365.00        91.80         7.86        10.90\n",
              "75%          407.00       102.60         8.10        14.10\n",
              "max        1,030.00       516.00        16.82        33.00"
            ]
          },
          "execution_count": 44,
          "metadata": {},
          "output_type": "execute_result"
        }
      ],
      "source": [
        "df.describe()"
      ]
    },
    {
      "cell_type": "code",
      "execution_count": null,
      "id": "3905216d",
      "metadata": {
        "id": "3905216d",
        "outputId": "2a30612c-a09c-4fe8-d6b1-1c62980bf0cd"
      },
      "outputs": [
        {
          "data": {
            "text/plain": [
              "(1007863, 4)"
            ]
          },
          "execution_count": 45,
          "metadata": {},
          "output_type": "execute_result"
        }
      ],
      "source": [
        "#Checking the new shape of the data\n",
        "df.shape"
      ]
    },
    {
      "cell_type": "code",
      "execution_count": null,
      "id": "c129cbb0",
      "metadata": {
        "id": "c129cbb0",
        "outputId": "7685649b-d7c9-481d-bf58-3b09c67b28da"
      },
      "outputs": [
        {
          "data": {
            "image/png": "[encoded data removed]",
            "text/plain": [
              "<Figure size 1000x800 with 4 Axes>"
            ]
          },
          "metadata": {},
          "output_type": "display_data"
        }
      ],
      "source": [
        "# Create a 2x2 grid of subplots for the histograms\n",
        "fig, axes = plt.subplots(2, 2, figsize=(10, 8))\n",
        "\n",
        "# Plot histograms for each column\n",
        "axes[0, 0].hist(df[\"conductivity\"], bins=10, color='blue', alpha=0.7)\n",
        "axes[0, 0].set_title(\"Conductivity Histogram\")\n",
        "axes[0, 1].hist(df[\"ph\"], bins=10, color='green', alpha=0.7)\n",
        "axes[0, 1].set_title(\"pH Histogram\")\n",
        "axes[1, 0].hist(df[\"do\"], bins=10, color='red', alpha=0.7)\n",
        "axes[1, 0].set_title(\"Dissolved Oxygen Histogram\")\n",
        "axes[1, 1].hist(df[\"temperature\"], bins=10, color='orange', alpha=0.7)\n",
        "axes[1, 1].set_title(\"Temperature Histogram\")\n",
        "\n",
        "# Adjust spacing between subplots\n",
        "plt.tight_layout()\n",
        "\n",
        "# Show the plot\n",
        "plt.show()\n"
      ]
    },
    {
      "cell_type": "code",
      "execution_count": null,
      "id": "a5c3f881",
      "metadata": {
        "id": "a5c3f881",
        "outputId": "62baef24-feb5-4b49-bb12-e4f2bb95424d"
      },
      "outputs": [
        {
          "data": {
            "image/png": "[encoded data removed]",
            "text/plain": [
              "<Figure size 2400x800 with 2 Axes>"
            ]
          },
          "metadata": {},
          "output_type": "display_data"
        }
      ],
      "source": [
        "#Plot of correlation\n",
        "plt.figure(figsize=(24,8))\n",
        "sns.heatmap(df.corr(), annot=True, fmt=\".2f\");"
      ]
    },
    {
      "cell_type": "code",
      "execution_count": null,
      "id": "66233a0f",
      "metadata": {
        "id": "66233a0f",
        "outputId": "e8d2640d-d841-4bea-eae9-e0cb6203b380"
      },
      "outputs": [
        {
          "data": {
            "image/png": "[encoded data removed]",
            "text/plain": [
              "<Figure size 1200x800 with 4 Axes>"
            ]
          },
          "metadata": {},
          "output_type": "display_data"
        }
      ],
      "source": [
        "# Create a 2x2 subplot for four box plots\n",
        "fig, axes = plt.subplots(2, 2, figsize=(12, 8))\n",
        "\n",
        "# Create box plots using Seaborn\n",
        "sns.boxplot(x=df['conductivity'], ax=axes[0, 0])\n",
        "sns.boxplot(x=df['do'], ax=axes[0, 1])\n",
        "sns.boxplot(x=df['ph'], ax=axes[1, 0])\n",
        "sns.boxplot(x=df['temperature'], ax=axes[1, 1])\n",
        "\n",
        "# Add titles and labels for each subplot\n",
        "axes[0, 0].set_title('Box Plot for Water Conductivity')\n",
        "axes[0, 1].set_title('Box Plot for Dissolve Oxygen')\n",
        "axes[1, 0].set_title('Box Plot for PH Level')\n",
        "axes[1, 1].set_title('Box Plot for Temperature')\n",
        "\n",
        "# Adjust layout\n",
        "plt.tight_layout()\n",
        "\n",
        "# Show the plot\n",
        "plt.show()\n"
      ]
    },
    {
      "cell_type": "code",
      "execution_count": null,
      "id": "09609bdc",
      "metadata": {
        "id": "09609bdc"
      },
      "outputs": [],
      "source": [
        "# Create a 2x2 subplot for four line plots\n",
        "fig, axes = plt.subplots(2, 2, figsize=(12, 8))\n",
        "\n",
        "# Create line plots using Seaborn\n",
        "sns.barplot(data=df, x=df.index, y='conductivity', ax=axes[0, 0])\n",
        "#sns.barplot(data=df, x=df.index, y='do', ax=axes[0, 1])\n",
        "#sns.barlot(data=df, x=df.index, y='ph', ax=axes[1, 0])\n",
        "#sns.barlot(data=df, x=df.index, y='temperature', ax=axes[1, 1])\n",
        "\n",
        "# Add titles and labels for each subplot\n",
        "axes[0, 0].set_title('Line Plot for Conductivity')\n",
        "#axes[0, 1].set_title('Line Plot for Dissolved Oxygen')\n",
        "#axes[1, 0].set_title('Line Plot for PH values')\n",
        "#axes[1, 1].set_title('Line Plot for Temperature')\n",
        "\n",
        "# Adjust layout\n",
        "plt.tight_layout()\n",
        "\n",
        "# Show the plot\n",
        "plt.show()\n"
      ]
    },
    {
      "cell_type": "code",
      "execution_count": null,
      "id": "57981eab",
      "metadata": {
        "id": "57981eab"
      },
      "outputs": [],
      "source": []
    },
    {
      "cell_type": "code",
      "execution_count": null,
      "id": "2eb8b147",
      "metadata": {
        "id": "2eb8b147"
      },
      "outputs": [],
      "source": []
    }
  ],
  "metadata": {
    "kernelspec": {
      "display_name": "Python 3 (ipykernel)",
      "language": "python",
      "name": "python3"
    },
    "language_info": {
      "codemirror_mode": {
        "name": "ipython",
        "version": 3
      },
      "file_extension": ".py",
      "mimetype": "text/x-python",
      "name": "python",
      "nbconvert_exporter": "python",
      "pygments_lexer": "ipython3",
      "version": "3.9.13"
    },
    "colab": {
      "provenance": [],
      "include_colab_link": true
    }
  },
  "nbformat": 4,
  "nbformat_minor": 5
}